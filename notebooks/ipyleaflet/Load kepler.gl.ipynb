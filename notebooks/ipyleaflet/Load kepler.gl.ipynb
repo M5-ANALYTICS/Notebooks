{
 "cells": [
  {
   "cell_type": "code",
   "execution_count": 1,
   "metadata": {},
   "outputs": [
    {
     "name": "stdout",
     "output_type": "stream",
     "text": [
      "             hex_id  value  is_true  float_value empty           time\n",
      "0   89283082c2fffff     64     True         64.1        11/1/17 11:00\n",
      "1   8928308288fffff     73     True         73.1        11/1/17 11:00\n",
      "2   89283082c07ffff     65     True         65.1        11/1/17 11:00\n",
      "3   89283082817ffff     74     True         74.1        11/1/17 11:00\n",
      "4   89283082c3bffff     66     True         66.1        11/1/17 11:00\n",
      "..              ...    ...      ...          ...   ...            ...\n",
      "83  8928309537bffff      4     True          4.1        11/1/17 11:00\n",
      "84  89283082d93ffff      6     True          6.1        11/1/17 11:00\n",
      "85  89283082d73ffff      1     True          1.1        11/1/17 13:00\n",
      "86  8928309530bffff      1     True          1.1        11/1/17 11:00\n",
      "87  8928309532bffff      1     True          1.1        11/1/17 11:00\n",
      "\n",
      "[88 rows x 6 columns]\n"
     ]
    }
   ],
   "source": [
    "import pandas as pd\n",
    "df = pd.read_csv('hex-data.csv')\n",
    "df = df.fillna('')\n",
    "print(df)"
   ]
  },
  {
   "cell_type": "code",
   "execution_count": 2,
   "metadata": {},
   "outputs": [],
   "source": [
    "import json\n",
    "with open('sf_zip_geo.json', 'r') as f:\n",
    "    geojson = f.read()\n",
    "\n",
    "json_data=json.loads(geojson)"
   ]
  },
  {
   "cell_type": "code",
   "execution_count": 3,
   "metadata": {},
   "outputs": [],
   "source": [
    "# assign config = hex_config\n",
    "%run hex_config.py"
   ]
  },
  {
   "cell_type": "code",
   "execution_count": 4,
   "metadata": {},
   "outputs": [
    {
     "name": "stdout",
     "output_type": "stream",
     "text": [
      "User Guide: https://docs.kepler.gl/docs/keplergl-jupyter\n"
     ]
    },
    {
     "data": {
      "application/vnd.jupyter.widget-view+json": {
       "model_id": "10509c5549994d839febff0aff541793",
       "version_major": 2,
       "version_minor": 0
      },
      "text/plain": [
       "KeplerGl(config={'version': 'v1', 'config': {'visState': {'layers': [{'type': 'hexagonId', 'visualChannels': {…"
      ]
     },
     "metadata": {},
     "output_type": "display_data"
    }
   ],
   "source": [
    "import keplergl\n",
    "w1 = keplergl.KeplerGl(height=500, data={\"data_1\": df}, config=config)\n",
    "# w1 = keplergl.KeplerGl(height=500)\n",
    "w1"
   ]
  },
  {
   "cell_type": "code",
   "execution_count": 5,
   "metadata": {
    "scrolled": true
   },
   "outputs": [],
   "source": [
    "w1.add_data(df, 'data_1')"
   ]
  },
  {
   "cell_type": "code",
   "execution_count": 6,
   "metadata": {},
   "outputs": [
    {
     "data": {
      "text/plain": [
       "{'version': 'v1',\n",
       " 'config': {'visState': {'layers': [{'type': 'hexagonId',\n",
       "     'visualChannels': {'sizeField': {'type': 'integer', 'name': 'value'},\n",
       "      'coverageField': None,\n",
       "      'colorScale': 'quantize',\n",
       "      'coverageScale': 'linear',\n",
       "      'colorField': {'type': 'integer', 'name': 'value'},\n",
       "      'sizeScale': 'linear'},\n",
       "     'config': {'dataId': 'data_1',\n",
       "      'color': [250, 116, 0],\n",
       "      'textLabel': {'color': [255, 255, 255],\n",
       "       'field': None,\n",
       "       'size': 50,\n",
       "       'anchor': 'middle',\n",
       "       'offset': [0, 0]},\n",
       "      'label': 'H3 Hexagon',\n",
       "      'isVisible': True,\n",
       "      'visConfig': {'coverageRange': [0, 1],\n",
       "       'opacity': 0.8,\n",
       "       'elevationScale': 5,\n",
       "       'hi-precision': False,\n",
       "       'coverage': 1,\n",
       "       'enable3d': True,\n",
       "       'sizeRange': [0, 500],\n",
       "       'colorRange': {'category': 'Uber',\n",
       "        'type': 'sequential',\n",
       "        'colors': ['#194266',\n",
       "         '#355C7D',\n",
       "         '#63617F',\n",
       "         '#916681',\n",
       "         '#C06C84',\n",
       "         '#D28389',\n",
       "         '#E59A8F',\n",
       "         '#F8B195'],\n",
       "        'reversed': False,\n",
       "        'name': 'Sunrise 8'}},\n",
       "      'columns': {'hex_id': 'hex_id'}},\n",
       "     'id': 'jdys7lp'}],\n",
       "   'interactionConfig': {'brush': {'enabled': False, 'size': 0.5},\n",
       "    'tooltip': {'fieldsToShow': {'data_1': ['hex_id', 'value']},\n",
       "     'enabled': True}},\n",
       "   'splitMaps': [],\n",
       "   'layerBlending': 'normal',\n",
       "   'filters': []},\n",
       "  'mapState': {'bearing': 2.6192893401015205,\n",
       "   'dragRotate': True,\n",
       "   'zoom': 12.32053899007826,\n",
       "   'longitude': -122.42590232651203,\n",
       "   'isSplit': False,\n",
       "   'pitch': 37.374216241015446,\n",
       "   'latitude': 37.76209132041332},\n",
       "  'mapStyle': {'mapStyles': {},\n",
       "   'topLayerGroups': {},\n",
       "   'styleType': 'dark',\n",
       "   'visibleLayerGroups': {'building': True,\n",
       "    'land': True,\n",
       "    '3d building': False,\n",
       "    'label': True,\n",
       "    'water': True,\n",
       "    'border': False,\n",
       "    'road': True}}}}"
      ]
     },
     "execution_count": 6,
     "metadata": {},
     "output_type": "execute_result"
    }
   ],
   "source": [
    "w1.config"
   ]
  },
  {
   "cell_type": "code",
   "execution_count": 7,
   "metadata": {},
   "outputs": [],
   "source": [
    "w1.add_data(json_data, 'geojson')"
   ]
  },
  {
   "cell_type": "code",
   "execution_count": 9,
   "metadata": {},
   "outputs": [
    {
     "name": "stdout",
     "output_type": "stream",
     "text": [
      "Map saved to first_map.html!\n"
     ]
    }
   ],
   "source": [
    "w1.save_to_html(file_name='first_map.html', data={\"data_1\": df}, config=config, read_only=True)"
   ]
  },
  {
   "cell_type": "code",
   "execution_count": null,
   "metadata": {},
   "outputs": [],
   "source": []
  }
 ],
 "metadata": {
  "kernelspec": {
   "display_name": "Python 3 (ipykernel)",
   "language": "python",
   "name": "python3"
  },
  "language_info": {
   "codemirror_mode": {
    "name": "ipython",
    "version": 3
   },
   "file_extension": ".py",
   "mimetype": "text/x-python",
   "name": "python",
   "nbconvert_exporter": "python",
   "pygments_lexer": "ipython3",
   "version": "3.9.13"
  }
 },
 "nbformat": 4,
 "nbformat_minor": 4
}
