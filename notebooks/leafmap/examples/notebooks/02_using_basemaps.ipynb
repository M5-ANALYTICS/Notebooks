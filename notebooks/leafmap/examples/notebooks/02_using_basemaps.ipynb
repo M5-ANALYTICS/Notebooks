{
 "cells": [
  {
   "attachments": {},
   "cell_type": "markdown",
   "metadata": {},
   "source": [
    "[![image](https://jupyterlite.rtfd.io/en/latest/_static/badge.svg)](https://demo.leafmap.org/lab/index.html?path=notebooks/02_using_basemaps.ipynb)\n",
    "[![image](https://studiolab.sagemaker.aws/studiolab.svg)](https://studiolab.sagemaker.aws/import/github/opengeos/leafmap/blob/master/examples/notebooks/02_using_basemaps.ipynb)\n",
    "[![image](https://img.shields.io/badge/Open-Planetary%20Computer-black?style=flat&logo=microsoft)](https://pccompute.westeurope.cloudapp.azure.com/compute/hub/user-redirect/git-pull?repo=https://github.com/opengeos/leafmap&urlpath=lab/tree/leafmap/examples/notebooks/02_using_basemaps.ipynb&branch=master)\n",
    "[![image](https://colab.research.google.com/assets/colab-badge.svg)](https://githubtocolab.com/opengeos/leafmap/blob/master/examples/notebooks/02_using_basemaps.ipynb)\n",
    "[![image](https://mybinder.org/badge_logo.svg)](https://gishub.org/leafmap-binder)\n",
    "\n",
    "**Using basemaps in leafmap**\n",
    "\n",
    "Uncomment the following line to install [leafmap](https://leafmap.org) if needed."
   ]
  },
  {
   "cell_type": "code",
   "execution_count": 26,
   "metadata": {},
   "outputs": [],
   "source": [
    "# !pip install leafmap"
   ]
  },
  {
   "cell_type": "code",
   "execution_count": 27,
   "metadata": {},
   "outputs": [],
   "source": [
    "import leafmap"
   ]
  },
  {
   "attachments": {},
   "cell_type": "markdown",
   "metadata": {},
   "source": [
    "Create an interactive map."
   ]
  },
  {
   "cell_type": "code",
   "execution_count": 28,
   "metadata": {},
   "outputs": [
    {
     "data": {
      "application/vnd.jupyter.widget-view+json": {
       "model_id": "9ca097e8c72b4218ac2300086cc639fb",
       "version_major": 2,
       "version_minor": 0
      },
      "text/plain": [
       "Map(center=[20, 0], controls=(ZoomControl(options=['position', 'zoom_in_text', 'zoom_in_title', 'zoom_out_text…"
      ]
     },
     "metadata": {},
     "output_type": "display_data"
    }
   ],
   "source": [
    "m = leafmap.Map()\n",
    "m"
   ]
  },
  {
   "attachments": {},
   "cell_type": "markdown",
   "metadata": {},
   "source": [
    "Specify a Google basemap to use, can be one of [\"ROADMAP\", \"TERRAIN\", \"SATELLITE\", \"HYBRID\"]."
   ]
  },
  {
   "cell_type": "code",
   "execution_count": 29,
   "metadata": {},
   "outputs": [
    {
     "data": {
      "application/vnd.jupyter.widget-view+json": {
       "model_id": "42b5f7d7d6a349c4ae109e74bcd1f61f",
       "version_major": 2,
       "version_minor": 0
      },
      "text/plain": [
       "Map(center=[20, 0], controls=(ZoomControl(options=['position', 'zoom_in_text', 'zoom_in_title', 'zoom_out_text…"
      ]
     },
     "metadata": {},
     "output_type": "display_data"
    }
   ],
   "source": [
    "m = leafmap.Map(google_map=\"HYBRID\")\n",
    "m"
   ]
  },
  {
   "cell_type": "code",
   "execution_count": 30,
   "metadata": {},
   "outputs": [
    {
     "data": {
      "application/vnd.jupyter.widget-view+json": {
       "model_id": "bfbf7fd39f194fe7b69370f6b9f3d1a9",
       "version_major": 2,
       "version_minor": 0
      },
      "text/plain": [
       "Map(center=[20, 0], controls=(ZoomControl(options=['position', 'zoom_in_text', 'zoom_in_title', 'zoom_out_text…"
      ]
     },
     "metadata": {},
     "output_type": "display_data"
    }
   ],
   "source": [
    "m = leafmap.Map(google_map=\"TERRAIN\")\n",
    "m"
   ]
  },
  {
   "attachments": {},
   "cell_type": "markdown",
   "metadata": {},
   "source": [
    "Add a basemap using the `add_basemap()` function."
   ]
  },
  {
   "cell_type": "code",
   "execution_count": 31,
   "metadata": {},
   "outputs": [
    {
     "data": {
      "application/vnd.jupyter.widget-view+json": {
       "model_id": "e1c2329632b749d5b1c3ac8cddf06d54",
       "version_major": 2,
       "version_minor": 0
      },
      "text/plain": [
       "Map(center=[20, 0], controls=(ZoomControl(options=['position', 'zoom_in_text', 'zoom_in_title', 'zoom_out_text…"
      ]
     },
     "metadata": {},
     "output_type": "display_data"
    }
   ],
   "source": [
    "m = leafmap.Map()\n",
    "m.add_basemap(\"HYBRID\")\n",
    "m.add_basemap(\"Esri.NatGeoWorldMap\")\n",
    "m"
   ]
  },
  {
   "attachments": {},
   "cell_type": "markdown",
   "metadata": {},
   "source": [
    "Add an XYZ tile layer."
   ]
  },
  {
   "cell_type": "code",
   "execution_count": 32,
   "metadata": {},
   "outputs": [
    {
     "data": {
      "application/vnd.jupyter.widget-view+json": {
       "model_id": "f366693c5ae94b1cb1f663d735eaeb03",
       "version_major": 2,
       "version_minor": 0
      },
      "text/plain": [
       "Map(center=[20, 0], controls=(ZoomControl(options=['position', 'zoom_in_text', 'zoom_in_title', 'zoom_out_text…"
      ]
     },
     "metadata": {},
     "output_type": "display_data"
    }
   ],
   "source": [
    "m = leafmap.Map()\n",
    "m.add_tile_layer(\n",
    "    url=\"https://mt1.google.com/vt/lyrs=y&x={x}&y={y}&z={z}\",\n",
    "    name=\"Google Satellite\",\n",
    "    attribution=\"Google\",\n",
    ")\n",
    "m"
   ]
  },
  {
   "attachments": {},
   "cell_type": "markdown",
   "metadata": {},
   "source": [
    "Add a WMS tile layer."
   ]
  },
  {
   "cell_type": "code",
   "execution_count": 34,
   "metadata": {},
   "outputs": [
    {
     "data": {
      "application/vnd.jupyter.widget-view+json": {
       "model_id": "3648c22bacc74d39a9392b9a979914a2",
       "version_major": 2,
       "version_minor": 0
      },
      "text/plain": [
       "Map(center=[20, 0], controls=(ZoomControl(options=['position', 'zoom_in_text', 'zoom_in_title', 'zoom_out_text…"
      ]
     },
     "metadata": {},
     "output_type": "display_data"
    }
   ],
   "source": [
    "m = leafmap.Map()\n",
    "naip_url = 'https://services.nationalmap.gov/arcgis/services/USGSNAIPImagery/ImageServer/WMSServer?'\n",
    "m.add_wms_layer(\n",
    "    url=naip_url, layers='0', name='NAIP Imagery', format='image/png', shown=True\n",
    ")\n",
    "m"
   ]
  },
  {
   "attachments": {},
   "cell_type": "markdown",
   "metadata": {},
   "source": [
    "Add a legend to the map."
   ]
  },
  {
   "cell_type": "code",
   "execution_count": 35,
   "metadata": {},
   "outputs": [
    {
     "data": {
      "application/vnd.jupyter.widget-view+json": {
       "model_id": "a78b9678df0342f3933e50252047fc4b",
       "version_major": 2,
       "version_minor": 0
      },
      "text/plain": [
       "Map(center=[20, 0], controls=(ZoomControl(options=['position', 'zoom_in_text', 'zoom_in_title', 'zoom_out_text…"
      ]
     },
     "metadata": {},
     "output_type": "display_data"
    }
   ],
   "source": [
    "m = leafmap.Map(google_map=\"HYBRID\")\n",
    "\n",
    "url1 = \"https://www.fws.gov/wetlands/arcgis/services/Wetlands/MapServer/WMSServer?\"\n",
    "m.add_wms_layer(\n",
    "    url1, layers=\"1\", format='image/png', transparent=True, name=\"NWI Wetlands Vector\"\n",
    ")\n",
    "\n",
    "url2 = \"https://www.fws.gov/wetlands/arcgis/services/Wetlands_Raster/ImageServer/WMSServer?\"\n",
    "m.add_wms_layer(\n",
    "    url2, layers=\"0\", format='image/png', transparent=True, name=\"NWI Wetlands Raster\"\n",
    ")\n",
    "\n",
    "m.add_legend(builtin_legend=\"NWI\")\n",
    "m"
   ]
  },
  {
   "attachments": {},
   "cell_type": "markdown",
   "metadata": {},
   "source": [
    "Add a layer from [xyzservices](https://github.com/geopandas/xyzservices) provider object"
   ]
  },
  {
   "cell_type": "code",
   "execution_count": 36,
   "metadata": {},
   "outputs": [],
   "source": [
    "import os\n",
    "import xyzservices.providers as xyz"
   ]
  },
  {
   "cell_type": "code",
   "execution_count": 37,
   "metadata": {},
   "outputs": [
    {
     "data": {
      "text/html": [
       "\n",
       "        <div>\n",
       "        <style>\n",
       "/* CSS stylesheet for displaying xyzservices objects in Jupyter.*/\n",
       ".xyz-wrap {\n",
       "    --xyz-border-color: var(--jp-border-color2, #ddd);\n",
       "    --xyz-font-color2: var(--jp-content-font-color2, rgba(128, 128, 128, 1));\n",
       "    --xyz-background-color-white: var(--jp-layout-color1, white);\n",
       "    --xyz-background-color: var(--jp-layout-color2, rgba(128, 128, 128, 0.1));\n",
       "}\n",
       "\n",
       "html[theme=dark] .xyz-wrap,\n",
       "body.vscode-dark .xyz-wrap,\n",
       "body.vscode-high-contrast .xyz-wrap {\n",
       "    --xyz-border-color: #222;\n",
       "    --xyz-font-color2: rgba(255, 255, 255, 0.54);\n",
       "    --xyz-background-color-white: rgba(255, 255, 255, 1);\n",
       "    --xyz-background-color: rgba(255, 255, 255, 0.05);\n",
       "\n",
       "}\n",
       "\n",
       ".xyz-header {\n",
       "    padding-top: 6px;\n",
       "    padding-bottom: 6px;\n",
       "    margin-bottom: 4px;\n",
       "    border-bottom: solid 1px var(--xyz-border-color);\n",
       "}\n",
       "\n",
       ".xyz-header>div {\n",
       "    display: inline;\n",
       "    margin-top: 0;\n",
       "    margin-bottom: 0;\n",
       "}\n",
       "\n",
       ".xyz-obj,\n",
       ".xyz-name {\n",
       "    margin-left: 2px;\n",
       "    margin-right: 10px;\n",
       "}\n",
       "\n",
       ".xyz-obj {\n",
       "    color: var(--xyz-font-color2);\n",
       "}\n",
       "\n",
       ".xyz-attrs {\n",
       "    grid-column: 1 / -1;\n",
       "}\n",
       "\n",
       "dl.xyz-attrs {\n",
       "    padding: 0 5px 0 5px;\n",
       "    margin: 0;\n",
       "    display: grid;\n",
       "    grid-template-columns: 135px auto;\n",
       "    background-color: var(--xyz-background-color);\n",
       "}\n",
       "\n",
       ".xyz-attrs dt,\n",
       "dd {\n",
       "    padding: 0;\n",
       "    margin: 0;\n",
       "    float: left;\n",
       "    padding-right: 10px;\n",
       "    width: auto;\n",
       "}\n",
       "\n",
       ".xyz-attrs dt {\n",
       "    font-weight: normal;\n",
       "    grid-column: 1;\n",
       "}\n",
       "\n",
       ".xyz-attrs dd {\n",
       "    grid-column: 2;\n",
       "    white-space: pre-wrap;\n",
       "    word-break: break-all;\n",
       "}\n",
       "\n",
       ".xyz-details ul>li>label>span {\n",
       "    color: var(--xyz-font-color2);\n",
       "    padding-left: 10px;\n",
       "}\n",
       "\n",
       ".xyz-inside {\n",
       "    display: none;\n",
       "}\n",
       "\n",
       ".xyz-checkbox:checked~.xyz-inside {\n",
       "    display: contents;\n",
       "}\n",
       "\n",
       ".xyz-collapsible li>input {\n",
       "    display: none;\n",
       "}\n",
       "\n",
       ".xyz-collapsible>li>label {\n",
       "    cursor: pointer;\n",
       "}\n",
       "\n",
       ".xyz-collapsible>li>label:hover {\n",
       "    color: var(--xyz-font-color2);\n",
       "}\n",
       "\n",
       "ul.xyz-collapsible {\n",
       "    list-style: none!important;\n",
       "    padding-left: 20px!important;\n",
       "}\n",
       "\n",
       ".xyz-checkbox+label:before {\n",
       "    content: '►';\n",
       "    font-size: 11px;\n",
       "}\n",
       "\n",
       ".xyz-checkbox:checked+label:before {\n",
       "    content: '▼';\n",
       "}\n",
       "\n",
       ".xyz-wrap {\n",
       "    margin-bottom: 10px;\n",
       "}\n",
       "</style>\n",
       "            <div class=\"xyz-wrap\">\n",
       "                <div class=\"xyz-header\">\n",
       "                    <div class=\"xyz-obj\">xyzservices.TileProvider</div>\n",
       "                    <div class=\"xyz-name\">HEREv3.basicMap</div>\n",
       "                </div>\n",
       "                <div class=\"xyz-details\">\n",
       "                    <dl class=\"xyz-attrs\">\n",
       "                        <dt><span>url</span></dt><dd>https://{s}.{base}.maps.ls.hereapi.com/maptile/2.1/{type}/{mapID}/{variant}/{z}/{x}/{y}/{size}/{format}?apiKey={apiKey}&lg={language}</dd><dt><span>html_attribution</span></dt><dd>Map &copy; 1987-2023 <a href=\"http://developer.here.com\">HERE</a></dd><dt><span>attribution</span></dt><dd>Map (C) 1987-2023 HERE</dd><dt><span>subdomains</span></dt><dd>1234</dd><dt><span>mapID</span></dt><dd>newest</dd><dt><span>apiKey</span></dt><dd><insert your apiKey here></dd><dt><span>base</span></dt><dd>base</dd><dt><span>variant</span></dt><dd>normal.day</dd><dt><span>max_zoom</span></dt><dd>20</dd><dt><span>type</span></dt><dd>basetile</dd><dt><span>language</span></dt><dd>eng</dd><dt><span>format</span></dt><dd>png8</dd><dt><span>size</span></dt><dd>256</dd>\n",
       "                    </dl>\n",
       "                </div>\n",
       "            </div>\n",
       "        </div>\n",
       "        "
      ],
      "text/plain": [
       "{'url': 'https://{s}.{base}.maps.ls.hereapi.com/maptile/2.1/{type}/{mapID}/{variant}/{z}/{x}/{y}/{size}/{format}?apiKey={apiKey}&lg={language}',\n",
       " 'html_attribution': 'Map &copy; 1987-2023 <a href=\"http://developer.here.com\">HERE</a>',\n",
       " 'attribution': 'Map (C) 1987-2023 HERE',\n",
       " 'subdomains': '1234',\n",
       " 'mapID': 'newest',\n",
       " 'apiKey': '<insert your apiKey here>',\n",
       " 'base': 'base',\n",
       " 'variant': 'normal.day',\n",
       " 'max_zoom': 20,\n",
       " 'type': 'basetile',\n",
       " 'language': 'eng',\n",
       " 'format': 'png8',\n",
       " 'size': '256',\n",
       " 'name': 'HEREv3.basicMap'}"
      ]
     },
     "execution_count": 37,
     "metadata": {},
     "output_type": "execute_result"
    }
   ],
   "source": [
    "basemap = xyz.HEREv3.basicMap\n",
    "basemap"
   ]
  },
  {
   "attachments": {},
   "cell_type": "markdown",
   "metadata": {},
   "source": [
    "Pass the api key to the xyzservices provider object or set it as an environment variable."
   ]
  },
  {
   "cell_type": "code",
   "execution_count": 38,
   "metadata": {},
   "outputs": [
    {
     "ename": "KeyError",
     "evalue": "'HEREMAPS_API_KEY'",
     "output_type": "error",
     "traceback": [
      "\u001b[0;31m---------------------------------------------------------------------------\u001b[0m",
      "\u001b[0;31mKeyError\u001b[0m                                  Traceback (most recent call last)",
      "\u001b[0;32m/tmp/ipykernel_11244/1970449863.py\u001b[0m in \u001b[0;36m<module>\u001b[0;34m\u001b[0m\n\u001b[0;32m----> 1\u001b[0;31m \u001b[0mbasemap\u001b[0m\u001b[0;34m[\u001b[0m\u001b[0;34m'apiKey'\u001b[0m\u001b[0;34m]\u001b[0m \u001b[0;34m=\u001b[0m \u001b[0mos\u001b[0m\u001b[0;34m.\u001b[0m\u001b[0menviron\u001b[0m\u001b[0;34m[\u001b[0m\u001b[0;34m\"HEREMAPS_API_KEY\"\u001b[0m\u001b[0;34m]\u001b[0m\u001b[0;34m\u001b[0m\u001b[0;34m\u001b[0m\u001b[0m\n\u001b[0m",
      "\u001b[0;32m~/anaconda3/lib/python3.9/os.py\u001b[0m in \u001b[0;36m__getitem__\u001b[0;34m(self, key)\u001b[0m\n\u001b[1;32m    677\u001b[0m         \u001b[0;32mexcept\u001b[0m \u001b[0mKeyError\u001b[0m\u001b[0;34m:\u001b[0m\u001b[0;34m\u001b[0m\u001b[0;34m\u001b[0m\u001b[0m\n\u001b[1;32m    678\u001b[0m             \u001b[0;31m# raise KeyError with the original key value\u001b[0m\u001b[0;34m\u001b[0m\u001b[0;34m\u001b[0m\u001b[0m\n\u001b[0;32m--> 679\u001b[0;31m             \u001b[0;32mraise\u001b[0m \u001b[0mKeyError\u001b[0m\u001b[0;34m(\u001b[0m\u001b[0mkey\u001b[0m\u001b[0;34m)\u001b[0m \u001b[0;32mfrom\u001b[0m \u001b[0;32mNone\u001b[0m\u001b[0;34m\u001b[0m\u001b[0;34m\u001b[0m\u001b[0m\n\u001b[0m\u001b[1;32m    680\u001b[0m         \u001b[0;32mreturn\u001b[0m \u001b[0mself\u001b[0m\u001b[0;34m.\u001b[0m\u001b[0mdecodevalue\u001b[0m\u001b[0;34m(\u001b[0m\u001b[0mvalue\u001b[0m\u001b[0;34m)\u001b[0m\u001b[0;34m\u001b[0m\u001b[0;34m\u001b[0m\u001b[0m\n\u001b[1;32m    681\u001b[0m \u001b[0;34m\u001b[0m\u001b[0m\n",
      "\u001b[0;31mKeyError\u001b[0m: 'HEREMAPS_API_KEY'"
     ]
    }
   ],
   "source": [
    "basemap['apiKey'] = os.environ[\"HEREMAPS_API_KEY\"]"
   ]
  },
  {
   "attachments": {},
   "cell_type": "markdown",
   "metadata": {},
   "source": [
    "Add the xyzservices provider object as a layer to the map."
   ]
  },
  {
   "cell_type": "code",
   "execution_count": null,
   "metadata": {},
   "outputs": [],
   "source": [
    "m = leafmap.Map()\n",
    "m.add_basemap(basemap)\n",
    "m"
   ]
  }
 ],
 "metadata": {
  "kernelspec": {
   "display_name": "Python 3",
   "language": "python",
   "name": "python3"
  },
  "language_info": {
   "codemirror_mode": {
    "name": "ipython",
    "version": 3
   },
   "file_extension": ".py",
   "mimetype": "text/x-python",
   "name": "python",
   "nbconvert_exporter": "python",
   "pygments_lexer": "ipython3",
   "version": "3.9.13"
  }
 },
 "nbformat": 4,
 "nbformat_minor": 5
}
