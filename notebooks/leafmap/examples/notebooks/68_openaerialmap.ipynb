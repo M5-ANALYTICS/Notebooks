{
 "cells": [
  {
   "attachments": {},
   "cell_type": "markdown",
   "metadata": {},
   "source": [
    "[![image](https://jupyterlite.rtfd.io/en/latest/_static/badge.svg)](https://demo.leafmap.org/lab/index.html?path=notebooks/68_openaerialmap.ipynb)\n",
    "[![image](https://studiolab.sagemaker.aws/studiolab.svg)](https://studiolab.sagemaker.aws/import/github/opengeos/leafmap/blob/master/examples/notebooks/68_openaerialmap.ipynb)\n",
    "[![image](https://img.shields.io/badge/Open-Planetary%20Computer-black?style=flat&logo=microsoft)](https://pccompute.westeurope.cloudapp.azure.com/compute/hub/user-redirect/git-pull?repo=https://github.com/opengeos/leafmap&urlpath=lab/tree/leafmap/examples/notebooks/68_openaerialmap.ipynb&branch=master)\n",
    "[![image](https://colab.research.google.com/assets/colab-badge.svg)](https://githubtocolab.com/opengeos/leafmap/blob/master/examples/notebooks/68_openaerialmap.ipynb)\n",
    "[![image](https://mybinder.org/badge_logo.svg)](https://gishub.org/leafmap-binder)\n",
    "\n",
    "**Searching and visualizing OpenAerialMap imagery interactively**\n",
    "\n",
    "[OpenAerialMap](https://openaerialmap.org/) (OAM) provides openly licensed satellite and unmanned aerial vehicle (UAV) imagery. Currently, it has over 12,400+ images around the globe. This notebook demonstrates how to search and visualize OAM imagery interactively. You can download images automatically with one line of code.\n",
    "\n",
    "\n",
    "Uncomment the following line to install [leafmap](https://leafmap.org) if needed."
   ]
  },
  {
   "cell_type": "code",
   "execution_count": 1,
   "metadata": {},
   "outputs": [],
   "source": [
    "import leafmap"
   ]
  },
  {
   "attachments": {},
   "cell_type": "markdown",
   "metadata": {},
   "source": [
    "Search OAM images by a bounding box and a date range. The results can be returned as a GeoDataFrame or a list of image metadata."
   ]
  },
  {
   "cell_type": "code",
   "execution_count": 2,
   "metadata": {},
   "outputs": [
    {
     "name": "stdout",
     "output_type": "stream",
     "text": [
      "Found 55 images\n"
     ]
    }
   ],
   "source": [
    "bbox = [-79.6344, -0.9063, -77.3383, 1.0436]\n",
    "start_date = '2016-04-01'\n",
    "end_date = '2016-04-30'\n",
    "gdf = leafmap.oam_search(\n",
    "    bbox=bbox, start_date=start_date, end_date=end_date, return_gdf=True\n",
    ")\n",
    "print(f'Found {len(gdf)} images')"
   ]
  },
  {
   "cell_type": "code",
   "execution_count": 3,
   "metadata": {},
   "outputs": [
    {
     "data": {
      "text/html": [
       "<div>\n",
       "<style scoped>\n",
       "    .dataframe tbody tr th:only-of-type {\n",
       "        vertical-align: middle;\n",
       "    }\n",
       "\n",
       "    .dataframe tbody tr th {\n",
       "        vertical-align: top;\n",
       "    }\n",
       "\n",
       "    .dataframe thead th {\n",
       "        text-align: right;\n",
       "    }\n",
       "</style>\n",
       "<table border=\"1\" class=\"dataframe\">\n",
       "  <thead>\n",
       "    <tr style=\"text-align: right;\">\n",
       "      <th></th>\n",
       "      <th>geometry</th>\n",
       "      <th>_id</th>\n",
       "      <th>uuid</th>\n",
       "      <th>__v</th>\n",
       "      <th>title</th>\n",
       "      <th>gsd</th>\n",
       "      <th>file_size</th>\n",
       "      <th>acquisition_start</th>\n",
       "      <th>acquisition_end</th>\n",
       "      <th>platform</th>\n",
       "      <th>provider</th>\n",
       "      <th>contact</th>\n",
       "      <th>sensor</th>\n",
       "      <th>thumbnail</th>\n",
       "      <th>tms</th>\n",
       "      <th>wmts</th>\n",
       "      <th>uploaded_at</th>\n",
       "      <th>meta_uri</th>\n",
       "      <th>bbox</th>\n",
       "    </tr>\n",
       "  </thead>\n",
       "  <tbody>\n",
       "    <tr>\n",
       "      <th>0</th>\n",
       "      <td>POLYGON ((-78.10058 0.03903, -78.10058 0.22225...</td>\n",
       "      <td>59e62b7e3d6412ef72209701</td>\n",
       "      <td>http://oin-hotosm.s3.amazonaws.com/571e5c7fcd0...</td>\n",
       "      <td>0</td>\n",
       "      <td>Planet Labs PlanetScope Ecuador Earthquake</td>\n",
       "      <td>3</td>\n",
       "      <td>3144604</td>\n",
       "      <td>2016-04-20T00:00:00.000Z</td>\n",
       "      <td>2016-04-20T23:30:00.000Z</td>\n",
       "      <td>satellite</td>\n",
       "      <td>Planet Labs</td>\n",
       "      <td>Erika Reinhardt,erika@planet.com</td>\n",
       "      <td>PlanetScope</td>\n",
       "      <td>http://oin-hotosm.s3.amazonaws.com/571e5c7fcd0...</td>\n",
       "      <td>http://tiles.openaerialmap.org/571e5c7fcd0663b...</td>\n",
       "      <td>http://tiles.openaerialmap.org/571e5c7fcd0663b...</td>\n",
       "      <td>2016-04-25T00:00:00.000Z</td>\n",
       "      <td>http://oin-hotosm.s3.amazonaws.com/571e5c7fcd0...</td>\n",
       "      <td>[-78.10058445823623, 0.03902710389879522, -77....</td>\n",
       "    </tr>\n",
       "    <tr>\n",
       "      <th>1</th>\n",
       "      <td>POLYGON ((-78.20509 -0.11029, -78.20509 0.0732...</td>\n",
       "      <td>59e62b7e3d6412ef7220970b</td>\n",
       "      <td>http://oin-hotosm.s3.amazonaws.com/571e5c7fcd0...</td>\n",
       "      <td>0</td>\n",
       "      <td>Planet Labs PlanetScope Ecuador Earthquake</td>\n",
       "      <td>3</td>\n",
       "      <td>3831430</td>\n",
       "      <td>2016-04-20T00:00:00.000Z</td>\n",
       "      <td>2016-04-20T23:30:00.000Z</td>\n",
       "      <td>satellite</td>\n",
       "      <td>Planet Labs</td>\n",
       "      <td>Erika Reinhardt,erika@planet.com</td>\n",
       "      <td>PlanetScope</td>\n",
       "      <td>http://oin-hotosm.s3.amazonaws.com/571e5c7fcd0...</td>\n",
       "      <td>http://tiles.openaerialmap.org/571e5c7fcd0663b...</td>\n",
       "      <td>http://tiles.openaerialmap.org/571e5c7fcd0663b...</td>\n",
       "      <td>2016-04-25T00:00:00.000Z</td>\n",
       "      <td>http://oin-hotosm.s3.amazonaws.com/571e5c7fcd0...</td>\n",
       "      <td>[-78.20508551319601, -0.11029022565691535, -78...</td>\n",
       "    </tr>\n",
       "    <tr>\n",
       "      <th>2</th>\n",
       "      <td>POLYGON ((-78.15366 -0.03562, -78.15366 0.1479...</td>\n",
       "      <td>59e62b7d3d6412ef7220968d</td>\n",
       "      <td>http://oin-hotosm.s3.amazonaws.com/571e5c7fcd0...</td>\n",
       "      <td>0</td>\n",
       "      <td>Planet Labs PlanetScope Ecuador Earthquake</td>\n",
       "      <td>3</td>\n",
       "      <td>3812140</td>\n",
       "      <td>2016-04-20T00:00:00.000Z</td>\n",
       "      <td>2016-04-20T23:30:00.000Z</td>\n",
       "      <td>satellite</td>\n",
       "      <td>Planet Labs</td>\n",
       "      <td>Erika Reinhardt,erika@planet.com</td>\n",
       "      <td>PlanetScope</td>\n",
       "      <td>http://oin-hotosm.s3.amazonaws.com/571e5c7fcd0...</td>\n",
       "      <td>http://tiles.openaerialmap.org/571e5c7fcd0663b...</td>\n",
       "      <td>http://tiles.openaerialmap.org/571e5c7fcd0663b...</td>\n",
       "      <td>2016-04-25T00:00:00.000Z</td>\n",
       "      <td>http://oin-hotosm.s3.amazonaws.com/571e5c7fcd0...</td>\n",
       "      <td>[-78.15365598124903, -0.03562021446422918, -77...</td>\n",
       "    </tr>\n",
       "    <tr>\n",
       "      <th>3</th>\n",
       "      <td>POLYGON ((-78.58833 -0.65642, -78.58833 -0.472...</td>\n",
       "      <td>59e62b7e3d6412ef722096dc</td>\n",
       "      <td>http://oin-hotosm.s3.amazonaws.com/571e5c7fcd0...</td>\n",
       "      <td>0</td>\n",
       "      <td>Planet Labs PlanetScope Ecuador Earthquake</td>\n",
       "      <td>3</td>\n",
       "      <td>3248739</td>\n",
       "      <td>2016-04-20T00:00:00.000Z</td>\n",
       "      <td>2016-04-20T23:30:00.000Z</td>\n",
       "      <td>satellite</td>\n",
       "      <td>Planet Labs</td>\n",
       "      <td>Erika Reinhardt,erika@planet.com</td>\n",
       "      <td>PlanetScope</td>\n",
       "      <td>http://oin-hotosm.s3.amazonaws.com/571e5c7fcd0...</td>\n",
       "      <td>http://tiles.openaerialmap.org/571e5c7fcd0663b...</td>\n",
       "      <td>http://tiles.openaerialmap.org/571e5c7fcd0663b...</td>\n",
       "      <td>2016-04-25T00:00:00.000Z</td>\n",
       "      <td>http://oin-hotosm.s3.amazonaws.com/571e5c7fcd0...</td>\n",
       "      <td>[-78.58833199002822, -0.6564207526726079, -78....</td>\n",
       "    </tr>\n",
       "    <tr>\n",
       "      <th>4</th>\n",
       "      <td>POLYGON ((-78.69573 -0.81214, -78.69573 -0.628...</td>\n",
       "      <td>59e62b7d3d6412ef722096a0</td>\n",
       "      <td>http://oin-hotosm.s3.amazonaws.com/571e5c7fcd0...</td>\n",
       "      <td>0</td>\n",
       "      <td>Planet Labs PlanetScope Ecuador Earthquake</td>\n",
       "      <td>3</td>\n",
       "      <td>2777837</td>\n",
       "      <td>2016-04-20T00:00:00.000Z</td>\n",
       "      <td>2016-04-20T23:30:00.000Z</td>\n",
       "      <td>satellite</td>\n",
       "      <td>Planet Labs</td>\n",
       "      <td>Erika Reinhardt,erika@planet.com</td>\n",
       "      <td>PlanetScope</td>\n",
       "      <td>http://oin-hotosm.s3.amazonaws.com/571e5c7fcd0...</td>\n",
       "      <td>http://tiles.openaerialmap.org/571e5c7fcd0663b...</td>\n",
       "      <td>http://tiles.openaerialmap.org/571e5c7fcd0663b...</td>\n",
       "      <td>2016-04-25T00:00:00.000Z</td>\n",
       "      <td>http://oin-hotosm.s3.amazonaws.com/571e5c7fcd0...</td>\n",
       "      <td>[-78.69572836359227, -0.8121394423861734, -78....</td>\n",
       "    </tr>\n",
       "  </tbody>\n",
       "</table>\n",
       "</div>"
      ],
      "text/plain": [
       "                                            geometry  \\\n",
       "0  POLYGON ((-78.10058 0.03903, -78.10058 0.22225...   \n",
       "1  POLYGON ((-78.20509 -0.11029, -78.20509 0.0732...   \n",
       "2  POLYGON ((-78.15366 -0.03562, -78.15366 0.1479...   \n",
       "3  POLYGON ((-78.58833 -0.65642, -78.58833 -0.472...   \n",
       "4  POLYGON ((-78.69573 -0.81214, -78.69573 -0.628...   \n",
       "\n",
       "                        _id  \\\n",
       "0  59e62b7e3d6412ef72209701   \n",
       "1  59e62b7e3d6412ef7220970b   \n",
       "2  59e62b7d3d6412ef7220968d   \n",
       "3  59e62b7e3d6412ef722096dc   \n",
       "4  59e62b7d3d6412ef722096a0   \n",
       "\n",
       "                                                uuid  __v  \\\n",
       "0  http://oin-hotosm.s3.amazonaws.com/571e5c7fcd0...    0   \n",
       "1  http://oin-hotosm.s3.amazonaws.com/571e5c7fcd0...    0   \n",
       "2  http://oin-hotosm.s3.amazonaws.com/571e5c7fcd0...    0   \n",
       "3  http://oin-hotosm.s3.amazonaws.com/571e5c7fcd0...    0   \n",
       "4  http://oin-hotosm.s3.amazonaws.com/571e5c7fcd0...    0   \n",
       "\n",
       "                                        title  gsd  file_size  \\\n",
       "0  Planet Labs PlanetScope Ecuador Earthquake    3    3144604   \n",
       "1  Planet Labs PlanetScope Ecuador Earthquake    3    3831430   \n",
       "2  Planet Labs PlanetScope Ecuador Earthquake    3    3812140   \n",
       "3  Planet Labs PlanetScope Ecuador Earthquake    3    3248739   \n",
       "4  Planet Labs PlanetScope Ecuador Earthquake    3    2777837   \n",
       "\n",
       "          acquisition_start           acquisition_end   platform     provider  \\\n",
       "0  2016-04-20T00:00:00.000Z  2016-04-20T23:30:00.000Z  satellite  Planet Labs   \n",
       "1  2016-04-20T00:00:00.000Z  2016-04-20T23:30:00.000Z  satellite  Planet Labs   \n",
       "2  2016-04-20T00:00:00.000Z  2016-04-20T23:30:00.000Z  satellite  Planet Labs   \n",
       "3  2016-04-20T00:00:00.000Z  2016-04-20T23:30:00.000Z  satellite  Planet Labs   \n",
       "4  2016-04-20T00:00:00.000Z  2016-04-20T23:30:00.000Z  satellite  Planet Labs   \n",
       "\n",
       "                            contact       sensor  \\\n",
       "0  Erika Reinhardt,erika@planet.com  PlanetScope   \n",
       "1  Erika Reinhardt,erika@planet.com  PlanetScope   \n",
       "2  Erika Reinhardt,erika@planet.com  PlanetScope   \n",
       "3  Erika Reinhardt,erika@planet.com  PlanetScope   \n",
       "4  Erika Reinhardt,erika@planet.com  PlanetScope   \n",
       "\n",
       "                                           thumbnail  \\\n",
       "0  http://oin-hotosm.s3.amazonaws.com/571e5c7fcd0...   \n",
       "1  http://oin-hotosm.s3.amazonaws.com/571e5c7fcd0...   \n",
       "2  http://oin-hotosm.s3.amazonaws.com/571e5c7fcd0...   \n",
       "3  http://oin-hotosm.s3.amazonaws.com/571e5c7fcd0...   \n",
       "4  http://oin-hotosm.s3.amazonaws.com/571e5c7fcd0...   \n",
       "\n",
       "                                                 tms  \\\n",
       "0  http://tiles.openaerialmap.org/571e5c7fcd0663b...   \n",
       "1  http://tiles.openaerialmap.org/571e5c7fcd0663b...   \n",
       "2  http://tiles.openaerialmap.org/571e5c7fcd0663b...   \n",
       "3  http://tiles.openaerialmap.org/571e5c7fcd0663b...   \n",
       "4  http://tiles.openaerialmap.org/571e5c7fcd0663b...   \n",
       "\n",
       "                                                wmts  \\\n",
       "0  http://tiles.openaerialmap.org/571e5c7fcd0663b...   \n",
       "1  http://tiles.openaerialmap.org/571e5c7fcd0663b...   \n",
       "2  http://tiles.openaerialmap.org/571e5c7fcd0663b...   \n",
       "3  http://tiles.openaerialmap.org/571e5c7fcd0663b...   \n",
       "4  http://tiles.openaerialmap.org/571e5c7fcd0663b...   \n",
       "\n",
       "                uploaded_at  \\\n",
       "0  2016-04-25T00:00:00.000Z   \n",
       "1  2016-04-25T00:00:00.000Z   \n",
       "2  2016-04-25T00:00:00.000Z   \n",
       "3  2016-04-25T00:00:00.000Z   \n",
       "4  2016-04-25T00:00:00.000Z   \n",
       "\n",
       "                                            meta_uri  \\\n",
       "0  http://oin-hotosm.s3.amazonaws.com/571e5c7fcd0...   \n",
       "1  http://oin-hotosm.s3.amazonaws.com/571e5c7fcd0...   \n",
       "2  http://oin-hotosm.s3.amazonaws.com/571e5c7fcd0...   \n",
       "3  http://oin-hotosm.s3.amazonaws.com/571e5c7fcd0...   \n",
       "4  http://oin-hotosm.s3.amazonaws.com/571e5c7fcd0...   \n",
       "\n",
       "                                                bbox  \n",
       "0  [-78.10058445823623, 0.03902710389879522, -77....  \n",
       "1  [-78.20508551319601, -0.11029022565691535, -78...  \n",
       "2  [-78.15365598124903, -0.03562021446422918, -77...  \n",
       "3  [-78.58833199002822, -0.6564207526726079, -78....  \n",
       "4  [-78.69572836359227, -0.8121394423861734, -78....  "
      ]
     },
     "execution_count": 3,
     "metadata": {},
     "output_type": "execute_result"
    }
   ],
   "source": [
    "gdf.head()"
   ]
  },
  {
   "attachments": {},
   "cell_type": "markdown",
   "metadata": {},
   "source": [
    "The tile URLs are stored in the `tms` column of the GeoDataFrame."
   ]
  },
  {
   "cell_type": "code",
   "execution_count": 4,
   "metadata": {},
   "outputs": [
    {
     "data": {
      "text/plain": [
       "['http://tiles.openaerialmap.org/571e5c7fcd0663bb003c31f9/0/571e60322b67227a79b4fb43/{z}/{x}/{y}.png',\n",
       " 'http://tiles.openaerialmap.org/571e5c7fcd0663bb003c31f9/0/571e60322b67227a79b4fb46/{z}/{x}/{y}.png',\n",
       " 'http://tiles.openaerialmap.org/571e5c7fcd0663bb003c31f9/0/571e60322b67227a79b4fb29/{z}/{x}/{y}.png',\n",
       " 'http://tiles.openaerialmap.org/571e5c7fcd0663bb003c31f9/0/571e60322b67227a79b4fb3b/{z}/{x}/{y}.png',\n",
       " 'http://tiles.openaerialmap.org/571e5c7fcd0663bb003c31f9/0/571e60322b67227a79b4fb2d/{z}/{x}/{y}.png']"
      ]
     },
     "execution_count": 4,
     "metadata": {},
     "output_type": "execute_result"
    }
   ],
   "source": [
    "tiles = gdf['tms'].tolist()\n",
    "tiles[:5]"
   ]
  },
  {
   "attachments": {},
   "cell_type": "markdown",
   "metadata": {},
   "source": [
    "The image sources (downloadable URLs) are stored in the `uuid` column of the GeoDataFrame."
   ]
  },
  {
   "cell_type": "code",
   "execution_count": 5,
   "metadata": {},
   "outputs": [
    {
     "data": {
      "text/plain": [
       "['http://oin-hotosm.s3.amazonaws.com/571e5c7fcd0663bb003c31f9/0/571e60322b67227a79b4fb43.tif',\n",
       " 'http://oin-hotosm.s3.amazonaws.com/571e5c7fcd0663bb003c31f9/0/571e60322b67227a79b4fb46.tif',\n",
       " 'http://oin-hotosm.s3.amazonaws.com/571e5c7fcd0663bb003c31f9/0/571e60322b67227a79b4fb29.tif',\n",
       " 'http://oin-hotosm.s3.amazonaws.com/571e5c7fcd0663bb003c31f9/0/571e60322b67227a79b4fb3b.tif',\n",
       " 'http://oin-hotosm.s3.amazonaws.com/571e5c7fcd0663bb003c31f9/0/571e60322b67227a79b4fb2d.tif']"
      ]
     },
     "execution_count": 5,
     "metadata": {},
     "output_type": "execute_result"
    }
   ],
   "source": [
    "images = gdf['uuid'].tolist()\n",
    "images[:5]"
   ]
  },
  {
   "attachments": {},
   "cell_type": "markdown",
   "metadata": {},
   "source": [
    "Download all images using the `download_files()` function."
   ]
  },
  {
   "cell_type": "code",
   "execution_count": 6,
   "metadata": {},
   "outputs": [
    {
     "name": "stdout",
     "output_type": "stream",
     "text": [
      "/home/danny/Proyectos/M5-Analitics/Notebooks/notebooks/leafmap/examples/notebooks/571e60322b67227a79b4fb43.tif already exists. Skip downloading. Set overwrite=True to overwrite.\n",
      "/home/danny/Proyectos/M5-Analitics/Notebooks/notebooks/leafmap/examples/notebooks/571e60322b67227a79b4fb46.tif already exists. Skip downloading. Set overwrite=True to overwrite.\n"
     ]
    }
   ],
   "source": [
    "leafmap.download_files(images[:2])"
   ]
  },
  {
   "attachments": {},
   "cell_type": "markdown",
   "metadata": {},
   "source": [
    "Add the image footprints to the map."
   ]
  },
  {
   "cell_type": "code",
   "execution_count": 7,
   "metadata": {},
   "outputs": [
    {
     "data": {
      "application/vnd.jupyter.widget-view+json": {
       "model_id": "92c76df174184a7581205564e3d71e73",
       "version_major": 2,
       "version_minor": 0
      },
      "text/plain": [
       "Map(center=[20, 0], controls=(ZoomControl(options=['position', 'zoom_in_text', 'zoom_in_title', 'zoom_out_text…"
      ]
     },
     "metadata": {},
     "output_type": "display_data"
    }
   ],
   "source": [
    "m = leafmap.Map()\n",
    "m.add_gdf(gdf, layer_name='Footprints')\n",
    "m"
   ]
  },
  {
   "attachments": {},
   "cell_type": "markdown",
   "metadata": {},
   "source": [
    "Search OAM imagery within the current map extent or user drawn ROI."
   ]
  },
  {
   "cell_type": "code",
   "execution_count": 8,
   "metadata": {},
   "outputs": [
    {
     "name": "stdout",
     "output_type": "stream",
     "text": [
      "Found 6 images. \n",
      "Showing the first 5.\n"
     ]
    },
    {
     "data": {
      "application/vnd.jupyter.widget-view+json": {
       "model_id": "2f28aef30615439ba955d230c4bd53fe",
       "version_major": 2,
       "version_minor": 0
      },
      "text/plain": [
       "Map(center=[4.7955, -75.6899], controls=(ZoomControl(options=['position', 'zoom_in_text', 'zoom_in_title', 'zo…"
      ]
     },
     "metadata": {},
     "output_type": "display_data"
    }
   ],
   "source": [
    "m = leafmap.Map(center=[4.7955, -75.6899], zoom=15)\n",
    "m.add_basemap('SATELLITE', show=False)\n",
    "\n",
    "bbox = [-75.7138, 4.7826, -75.6659, 4.808332]\n",
    "m.oam_search(bbox=bbox)\n",
    "\n",
    "m"
   ]
  },
  {
   "attachments": {},
   "cell_type": "markdown",
   "metadata": {},
   "source": [
    "Search OAM imagery interactively using the interactive GUI."
   ]
  },
  {
   "cell_type": "code",
   "execution_count": 9,
   "metadata": {},
   "outputs": [
    {
     "data": {
      "application/vnd.jupyter.widget-view+json": {
       "model_id": "9045b8fcf08441809dafeca5e10e78d3",
       "version_major": 2,
       "version_minor": 0
      },
      "text/plain": [
       "Map(center=[4.7955, -75.6899], controls=(ZoomControl(options=['position', 'zoom_in_text', 'zoom_in_title', 'zo…"
      ]
     },
     "metadata": {},
     "output_type": "display_data"
    }
   ],
   "source": [
    "m = leafmap.Map(center=[4.7955, -75.6899], zoom=15)\n",
    "m"
   ]
  },
  {
   "attachments": {},
   "cell_type": "markdown",
   "metadata": {},
   "source": [
    "![](https://i.imgur.com/YLnNOVF.gif)"
   ]
  }
 ],
 "metadata": {
  "kernelspec": {
   "display_name": "Python 3",
   "language": "python",
   "name": "python3"
  },
  "language_info": {
   "codemirror_mode": {
    "name": "ipython",
    "version": 3
   },
   "file_extension": ".py",
   "mimetype": "text/x-python",
   "name": "python",
   "nbconvert_exporter": "python",
   "pygments_lexer": "ipython3",
   "version": "3.9.13"
  }
 },
 "nbformat": 4,
 "nbformat_minor": 5
}
