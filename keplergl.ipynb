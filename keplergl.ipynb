{
 "cells": [
  {
   "cell_type": "code",
   "execution_count": 1,
   "metadata": {},
   "outputs": [
    {
     "name": "stdout",
     "output_type": "stream",
     "text": [
      "Collecting keplergl\n",
      "  Downloading keplergl-0.3.2.tar.gz (9.7 MB)\n",
      "\u001b[2K     \u001b[90m━━━━━━━━━━━━━━━━━━━━━━━━━━━━━━━━━━━━━━━━\u001b[0m \u001b[32m9.7/9.7 MB\u001b[0m \u001b[31m2.2 MB/s\u001b[0m eta \u001b[36m0:00:00\u001b[0m00:01\u001b[0m00:01\u001b[0m\n",
      "\u001b[?25h  Installing build dependencies ... \u001b[?25ldone\n",
      "\u001b[?25h  Getting requirements to build wheel ... \u001b[?25ldone\n",
      "\u001b[?25h  Preparing metadata (pyproject.toml) ... \u001b[?25ldone\n",
      "\u001b[?25hRequirement already satisfied: Shapely>=1.6.4.post2 in /home/danny/anaconda3/lib/python3.9/site-packages (from keplergl) (2.0.1)\n",
      "Collecting traittypes>=0.2.1\n",
      "  Downloading traittypes-0.2.1-py2.py3-none-any.whl (8.6 kB)\n",
      "Requirement already satisfied: geopandas>=0.5.0 in /home/danny/anaconda3/lib/python3.9/site-packages (from keplergl) (0.12.2)\n",
      "Requirement already satisfied: ipywidgets<8,>=7.0.0 in /home/danny/anaconda3/lib/python3.9/site-packages (from keplergl) (7.6.5)\n",
      "Requirement already satisfied: pandas>=0.23.0 in /home/danny/anaconda3/lib/python3.9/site-packages (from keplergl) (1.4.4)\n",
      "Requirement already satisfied: pyproj>=2.6.1.post1 in /home/danny/anaconda3/lib/python3.9/site-packages (from geopandas>=0.5.0->keplergl) (3.5.0)\n",
      "Requirement already satisfied: fiona>=1.8 in /home/danny/anaconda3/lib/python3.9/site-packages (from geopandas>=0.5.0->keplergl) (1.9.2)\n",
      "Requirement already satisfied: packaging in /home/danny/anaconda3/lib/python3.9/site-packages (from geopandas>=0.5.0->keplergl) (21.3)\n",
      "Requirement already satisfied: jupyterlab-widgets>=1.0.0 in /home/danny/anaconda3/lib/python3.9/site-packages (from ipywidgets<8,>=7.0.0->keplergl) (1.0.0)\n",
      "Requirement already satisfied: traitlets>=4.3.1 in /home/danny/anaconda3/lib/python3.9/site-packages (from ipywidgets<8,>=7.0.0->keplergl) (5.1.1)\n",
      "Requirement already satisfied: widgetsnbextension~=3.5.0 in /home/danny/anaconda3/lib/python3.9/site-packages (from ipywidgets<8,>=7.0.0->keplergl) (3.5.2)\n",
      "Requirement already satisfied: ipython>=4.0.0 in /home/danny/anaconda3/lib/python3.9/site-packages (from ipywidgets<8,>=7.0.0->keplergl) (7.31.1)\n",
      "Requirement already satisfied: nbformat>=4.2.0 in /home/danny/anaconda3/lib/python3.9/site-packages (from ipywidgets<8,>=7.0.0->keplergl) (5.5.0)\n",
      "Requirement already satisfied: ipython-genutils~=0.2.0 in /home/danny/anaconda3/lib/python3.9/site-packages (from ipywidgets<8,>=7.0.0->keplergl) (0.2.0)\n",
      "Requirement already satisfied: ipykernel>=4.5.1 in /home/danny/anaconda3/lib/python3.9/site-packages (from ipywidgets<8,>=7.0.0->keplergl) (6.15.2)\n",
      "Requirement already satisfied: python-dateutil>=2.8.1 in /home/danny/anaconda3/lib/python3.9/site-packages (from pandas>=0.23.0->keplergl) (2.8.2)\n",
      "Requirement already satisfied: pytz>=2020.1 in /home/danny/anaconda3/lib/python3.9/site-packages (from pandas>=0.23.0->keplergl) (2022.1)\n",
      "Requirement already satisfied: numpy>=1.18.5 in /home/danny/anaconda3/lib/python3.9/site-packages (from pandas>=0.23.0->keplergl) (1.22.4)\n",
      "Requirement already satisfied: certifi in /home/danny/anaconda3/lib/python3.9/site-packages (from fiona>=1.8->geopandas>=0.5.0->keplergl) (2022.9.14)\n",
      "Requirement already satisfied: click-plugins>=1.0 in /home/danny/anaconda3/lib/python3.9/site-packages (from fiona>=1.8->geopandas>=0.5.0->keplergl) (1.1.1)\n",
      "Requirement already satisfied: click~=8.0 in /home/danny/anaconda3/lib/python3.9/site-packages (from fiona>=1.8->geopandas>=0.5.0->keplergl) (8.0.4)\n",
      "Requirement already satisfied: importlib-metadata in /home/danny/anaconda3/lib/python3.9/site-packages (from fiona>=1.8->geopandas>=0.5.0->keplergl) (4.11.3)\n",
      "Requirement already satisfied: attrs>=19.2.0 in /home/danny/anaconda3/lib/python3.9/site-packages (from fiona>=1.8->geopandas>=0.5.0->keplergl) (21.4.0)\n",
      "Requirement already satisfied: cligj>=0.5 in /home/danny/anaconda3/lib/python3.9/site-packages (from fiona>=1.8->geopandas>=0.5.0->keplergl) (0.7.2)\n",
      "Requirement already satisfied: munch>=2.3.2 in /home/danny/anaconda3/lib/python3.9/site-packages (from fiona>=1.8->geopandas>=0.5.0->keplergl) (2.5.0)\n",
      "Requirement already satisfied: debugpy>=1.0 in /home/danny/anaconda3/lib/python3.9/site-packages (from ipykernel>=4.5.1->ipywidgets<8,>=7.0.0->keplergl) (1.5.1)\n",
      "Requirement already satisfied: nest-asyncio in /home/danny/anaconda3/lib/python3.9/site-packages (from ipykernel>=4.5.1->ipywidgets<8,>=7.0.0->keplergl) (1.5.5)\n",
      "Requirement already satisfied: jupyter-client>=6.1.12 in /home/danny/anaconda3/lib/python3.9/site-packages (from ipykernel>=4.5.1->ipywidgets<8,>=7.0.0->keplergl) (7.3.4)\n",
      "Requirement already satisfied: matplotlib-inline>=0.1 in /home/danny/anaconda3/lib/python3.9/site-packages (from ipykernel>=4.5.1->ipywidgets<8,>=7.0.0->keplergl) (0.1.6)\n",
      "Requirement already satisfied: pyzmq>=17 in /home/danny/anaconda3/lib/python3.9/site-packages (from ipykernel>=4.5.1->ipywidgets<8,>=7.0.0->keplergl) (23.2.0)\n",
      "Requirement already satisfied: psutil in /home/danny/anaconda3/lib/python3.9/site-packages (from ipykernel>=4.5.1->ipywidgets<8,>=7.0.0->keplergl) (5.9.0)\n",
      "Requirement already satisfied: tornado>=6.1 in /home/danny/anaconda3/lib/python3.9/site-packages (from ipykernel>=4.5.1->ipywidgets<8,>=7.0.0->keplergl) (6.1)\n",
      "Requirement already satisfied: decorator in /home/danny/anaconda3/lib/python3.9/site-packages (from ipython>=4.0.0->ipywidgets<8,>=7.0.0->keplergl) (5.1.1)\n",
      "Requirement already satisfied: pygments in /home/danny/anaconda3/lib/python3.9/site-packages (from ipython>=4.0.0->ipywidgets<8,>=7.0.0->keplergl) (2.11.2)\n",
      "Requirement already satisfied: pickleshare in /home/danny/anaconda3/lib/python3.9/site-packages (from ipython>=4.0.0->ipywidgets<8,>=7.0.0->keplergl) (0.7.5)\n",
      "Requirement already satisfied: backcall in /home/danny/anaconda3/lib/python3.9/site-packages (from ipython>=4.0.0->ipywidgets<8,>=7.0.0->keplergl) (0.2.0)\n",
      "Requirement already satisfied: pexpect>4.3 in /home/danny/anaconda3/lib/python3.9/site-packages (from ipython>=4.0.0->ipywidgets<8,>=7.0.0->keplergl) (4.8.0)\n",
      "Requirement already satisfied: setuptools>=18.5 in /home/danny/anaconda3/lib/python3.9/site-packages (from ipython>=4.0.0->ipywidgets<8,>=7.0.0->keplergl) (67.4.0)\n",
      "Requirement already satisfied: jedi>=0.16 in /home/danny/anaconda3/lib/python3.9/site-packages (from ipython>=4.0.0->ipywidgets<8,>=7.0.0->keplergl) (0.18.1)\n",
      "Requirement already satisfied: prompt-toolkit!=3.0.0,!=3.0.1,<3.1.0,>=2.0.0 in /home/danny/anaconda3/lib/python3.9/site-packages (from ipython>=4.0.0->ipywidgets<8,>=7.0.0->keplergl) (3.0.20)\n",
      "Requirement already satisfied: jupyter_core in /home/danny/anaconda3/lib/python3.9/site-packages (from nbformat>=4.2.0->ipywidgets<8,>=7.0.0->keplergl) (4.11.1)\n",
      "Requirement already satisfied: fastjsonschema in /home/danny/anaconda3/lib/python3.9/site-packages (from nbformat>=4.2.0->ipywidgets<8,>=7.0.0->keplergl) (2.16.2)\n",
      "Requirement already satisfied: jsonschema>=2.6 in /home/danny/anaconda3/lib/python3.9/site-packages (from nbformat>=4.2.0->ipywidgets<8,>=7.0.0->keplergl) (4.16.0)\n",
      "Requirement already satisfied: six>=1.5 in /home/danny/anaconda3/lib/python3.9/site-packages (from python-dateutil>=2.8.1->pandas>=0.23.0->keplergl) (1.16.0)\n",
      "Requirement already satisfied: notebook>=4.4.1 in /home/danny/anaconda3/lib/python3.9/site-packages (from widgetsnbextension~=3.5.0->ipywidgets<8,>=7.0.0->keplergl) (6.4.12)\n",
      "Requirement already satisfied: pyparsing!=3.0.5,>=2.0.2 in /home/danny/anaconda3/lib/python3.9/site-packages (from packaging->geopandas>=0.5.0->keplergl) (3.0.9)\n",
      "Requirement already satisfied: parso<0.9.0,>=0.8.0 in /home/danny/anaconda3/lib/python3.9/site-packages (from jedi>=0.16->ipython>=4.0.0->ipywidgets<8,>=7.0.0->keplergl) (0.8.3)\n",
      "Requirement already satisfied: pyrsistent!=0.17.0,!=0.17.1,!=0.17.2,>=0.14.0 in /home/danny/anaconda3/lib/python3.9/site-packages (from jsonschema>=2.6->nbformat>=4.2.0->ipywidgets<8,>=7.0.0->keplergl) (0.18.0)\n",
      "Requirement already satisfied: entrypoints in /home/danny/anaconda3/lib/python3.9/site-packages (from jupyter-client>=6.1.12->ipykernel>=4.5.1->ipywidgets<8,>=7.0.0->keplergl) (0.4)\n",
      "Requirement already satisfied: jinja2 in /home/danny/anaconda3/lib/python3.9/site-packages (from notebook>=4.4.1->widgetsnbextension~=3.5.0->ipywidgets<8,>=7.0.0->keplergl) (2.11.3)\n",
      "Requirement already satisfied: nbconvert>=5 in /home/danny/anaconda3/lib/python3.9/site-packages (from notebook>=4.4.1->widgetsnbextension~=3.5.0->ipywidgets<8,>=7.0.0->keplergl) (6.4.4)\n",
      "Requirement already satisfied: Send2Trash>=1.8.0 in /home/danny/anaconda3/lib/python3.9/site-packages (from notebook>=4.4.1->widgetsnbextension~=3.5.0->ipywidgets<8,>=7.0.0->keplergl) (1.8.0)\n",
      "Requirement already satisfied: terminado>=0.8.3 in /home/danny/anaconda3/lib/python3.9/site-packages (from notebook>=4.4.1->widgetsnbextension~=3.5.0->ipywidgets<8,>=7.0.0->keplergl) (0.13.1)\n",
      "Requirement already satisfied: prometheus-client in /home/danny/anaconda3/lib/python3.9/site-packages (from notebook>=4.4.1->widgetsnbextension~=3.5.0->ipywidgets<8,>=7.0.0->keplergl) (0.14.1)\n",
      "Requirement already satisfied: argon2-cffi in /home/danny/anaconda3/lib/python3.9/site-packages (from notebook>=4.4.1->widgetsnbextension~=3.5.0->ipywidgets<8,>=7.0.0->keplergl) (21.3.0)\n",
      "Requirement already satisfied: ptyprocess>=0.5 in /home/danny/anaconda3/lib/python3.9/site-packages (from pexpect>4.3->ipython>=4.0.0->ipywidgets<8,>=7.0.0->keplergl) (0.7.0)\n",
      "Requirement already satisfied: wcwidth in /home/danny/anaconda3/lib/python3.9/site-packages (from prompt-toolkit!=3.0.0,!=3.0.1,<3.1.0,>=2.0.0->ipython>=4.0.0->ipywidgets<8,>=7.0.0->keplergl) (0.2.5)\n",
      "Requirement already satisfied: zipp>=0.5 in /home/danny/anaconda3/lib/python3.9/site-packages (from importlib-metadata->fiona>=1.8->geopandas>=0.5.0->keplergl) (3.8.0)\n",
      "Requirement already satisfied: jupyterlab-pygments in /home/danny/anaconda3/lib/python3.9/site-packages (from nbconvert>=5->notebook>=4.4.1->widgetsnbextension~=3.5.0->ipywidgets<8,>=7.0.0->keplergl) (0.1.2)\n",
      "Requirement already satisfied: defusedxml in /home/danny/anaconda3/lib/python3.9/site-packages (from nbconvert>=5->notebook>=4.4.1->widgetsnbextension~=3.5.0->ipywidgets<8,>=7.0.0->keplergl) (0.7.1)\n",
      "Requirement already satisfied: bleach in /home/danny/anaconda3/lib/python3.9/site-packages (from nbconvert>=5->notebook>=4.4.1->widgetsnbextension~=3.5.0->ipywidgets<8,>=7.0.0->keplergl) (4.1.0)\n",
      "Requirement already satisfied: nbclient<0.6.0,>=0.5.0 in /home/danny/anaconda3/lib/python3.9/site-packages (from nbconvert>=5->notebook>=4.4.1->widgetsnbextension~=3.5.0->ipywidgets<8,>=7.0.0->keplergl) (0.5.13)\n",
      "Requirement already satisfied: testpath in /home/danny/anaconda3/lib/python3.9/site-packages (from nbconvert>=5->notebook>=4.4.1->widgetsnbextension~=3.5.0->ipywidgets<8,>=7.0.0->keplergl) (0.6.0)\n",
      "Requirement already satisfied: beautifulsoup4 in /home/danny/anaconda3/lib/python3.9/site-packages (from nbconvert>=5->notebook>=4.4.1->widgetsnbextension~=3.5.0->ipywidgets<8,>=7.0.0->keplergl) (4.11.1)\n",
      "Requirement already satisfied: pandocfilters>=1.4.1 in /home/danny/anaconda3/lib/python3.9/site-packages (from nbconvert>=5->notebook>=4.4.1->widgetsnbextension~=3.5.0->ipywidgets<8,>=7.0.0->keplergl) (1.5.0)\n",
      "Requirement already satisfied: mistune<2,>=0.8.1 in /home/danny/anaconda3/lib/python3.9/site-packages (from nbconvert>=5->notebook>=4.4.1->widgetsnbextension~=3.5.0->ipywidgets<8,>=7.0.0->keplergl) (0.8.4)\n",
      "Requirement already satisfied: MarkupSafe>=0.23 in /home/danny/anaconda3/lib/python3.9/site-packages (from jinja2->notebook>=4.4.1->widgetsnbextension~=3.5.0->ipywidgets<8,>=7.0.0->keplergl) (2.0.1)\n",
      "Requirement already satisfied: argon2-cffi-bindings in /home/danny/anaconda3/lib/python3.9/site-packages (from argon2-cffi->notebook>=4.4.1->widgetsnbextension~=3.5.0->ipywidgets<8,>=7.0.0->keplergl) (21.2.0)\n",
      "Requirement already satisfied: cffi>=1.0.1 in /home/danny/anaconda3/lib/python3.9/site-packages (from argon2-cffi-bindings->argon2-cffi->notebook>=4.4.1->widgetsnbextension~=3.5.0->ipywidgets<8,>=7.0.0->keplergl) (1.15.1)\n",
      "Requirement already satisfied: soupsieve>1.2 in /home/danny/anaconda3/lib/python3.9/site-packages (from beautifulsoup4->nbconvert>=5->notebook>=4.4.1->widgetsnbextension~=3.5.0->ipywidgets<8,>=7.0.0->keplergl) (2.3.1)\n",
      "Requirement already satisfied: webencodings in /home/danny/anaconda3/lib/python3.9/site-packages (from bleach->nbconvert>=5->notebook>=4.4.1->widgetsnbextension~=3.5.0->ipywidgets<8,>=7.0.0->keplergl) (0.5.1)\n",
      "Requirement already satisfied: pycparser in /home/danny/anaconda3/lib/python3.9/site-packages (from cffi>=1.0.1->argon2-cffi-bindings->argon2-cffi->notebook>=4.4.1->widgetsnbextension~=3.5.0->ipywidgets<8,>=7.0.0->keplergl) (2.21)\n",
      "Building wheels for collected packages: keplergl\n",
      "  Building wheel for keplergl (pyproject.toml) ... \u001b[?25ldone\n",
      "\u001b[?25h  Created wheel for keplergl: filename=keplergl-0.3.2-py2.py3-none-any.whl size=17922320 sha256=badfaf56d51428a26f1781900b25f6a907c1ec4005e462cc30f11ed4d14c9614\n",
      "  Stored in directory: /home/danny/.cache/pip/wheels/15/7f/48/aa4980536f7c9fbc783b2a191a579e73e7f74c41afc3f33c61\n",
      "Successfully built keplergl\n",
      "Installing collected packages: traittypes, keplergl\n",
      "Successfully installed keplergl-0.3.2 traittypes-0.2.1\n",
      "\n",
      "\u001b[1m[\u001b[0m\u001b[34;49mnotice\u001b[0m\u001b[1;39;49m]\u001b[0m\u001b[39;49m A new release of pip is available: \u001b[0m\u001b[31;49m23.0.1\u001b[0m\u001b[39;49m -> \u001b[0m\u001b[32;49m23.1.2\u001b[0m\n",
      "\u001b[1m[\u001b[0m\u001b[34;49mnotice\u001b[0m\u001b[1;39;49m]\u001b[0m\u001b[39;49m To update, run: \u001b[0m\u001b[32;49mpip install --upgrade pip\u001b[0m\n",
      "Note: you may need to restart the kernel to use updated packages.\n"
     ]
    }
   ],
   "source": [
    "#pip install keplergl"
   ]
  },
  {
   "cell_type": "code",
   "execution_count": 10,
   "metadata": {},
   "outputs": [
    {
     "name": "stdout",
     "output_type": "stream",
     "text": [
      "User Guide: https://docs.kepler.gl/docs/keplergl-jupyter\n"
     ]
    },
    {
     "data": {
      "application/vnd.jupyter.widget-view+json": {
       "model_id": "9fe96ebb83b449c9b71301e949639b36",
       "version_major": 2,
       "version_minor": 0
      },
      "text/plain": [
       "KeplerGl(data={'data_1':     hex_id\\tvalue\\tis_true\\tfloat_value\\tempty\\ttime\n",
       "0   89283082c2fffff\\t64\\ttrue\\t6…"
      ]
     },
     "metadata": {},
     "output_type": "display_data"
    }
   ],
   "source": [
    "# Load a map with data and config and height\n",
    "from keplergl import KeplerGl\n",
    "import pandas as pd\n",
    "\n",
    "df = pd.read_csv('hex-data.csv')\n",
    "map_2 = KeplerGl(height=400, data={\"data_1\": df}, )\n",
    "map_2"
   ]
  },
  {
   "cell_type": "code",
   "execution_count": null,
   "metadata": {},
   "outputs": [],
   "source": []
  }
 ],
 "metadata": {
  "kernelspec": {
   "display_name": "base",
   "language": "python",
   "name": "python3"
  },
  "language_info": {
   "codemirror_mode": {
    "name": "ipython",
    "version": 3
   },
   "file_extension": ".py",
   "mimetype": "text/x-python",
   "name": "python",
   "nbconvert_exporter": "python",
   "pygments_lexer": "ipython3",
   "version": "3.9.13"
  },
  "orig_nbformat": 4
 },
 "nbformat": 4,
 "nbformat_minor": 2
}
